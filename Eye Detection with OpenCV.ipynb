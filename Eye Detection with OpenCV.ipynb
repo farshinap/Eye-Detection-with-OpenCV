{
 "cells": [
  {
   "cell_type": "code",
   "execution_count": 1,
   "metadata": {},
   "outputs": [],
   "source": [
    "import cv2"
   ]
  },
  {
   "cell_type": "code",
   "execution_count": 2,
   "metadata": {},
   "outputs": [
    {
     "data": {
      "text/plain": [
       "< cv2.VideoCapture 000001BAC0290890>"
      ]
     },
     "execution_count": 2,
     "metadata": {},
     "output_type": "execute_result"
    }
   ],
   "source": [
    "vid = cv2.VideoCapture(r\"C:\\\\Users\\\\ADMIN\\\\Downloads\\\\Kick Me _ Best Directing _ Film Riot & Filmstro One Minute Short Film Competition.mp4\")\n",
    "vid"
   ]
  },
  {
   "cell_type": "code",
   "execution_count": 4,
   "metadata": {},
   "outputs": [],
   "source": [
    "import cv2\n",
    "\n",
    "vid = cv2.VideoCapture(r\"C:\\\\Users\\\\ADMIN\\\\Downloads\\\\Kick Me _ Best Directing _ Film Riot & Filmstro One Minute Short Film Competition.mp4\")\n",
    "\n",
    "while True:\n",
    "    success, frame = vid.read()\n",
    "    if not success:\n",
    "        # If unable to read frame, break the loop\n",
    "        break\n",
    "    \n",
    "    cv2.imshow(\"Video\", frame)\n",
    "    if cv2.waitKey(1) & 0xFF == 27:\n",
    "        break\n",
    "\n",
    "vid.release()\n",
    "cv2.destroyAllWindows()"
   ]
  },
  {
   "cell_type": "code",
   "execution_count": 6,
   "metadata": {},
   "outputs": [],
   "source": [
    "face_cascade =cv2.CascadeClassifier(\"C:\\\\Users\\\\ADMIN\\\\Downloads\\\\haarcascade_eye.xml\")"
   ]
  },
  {
   "cell_type": "code",
   "execution_count": 7,
   "metadata": {},
   "outputs": [],
   "source": [
    "vid = cv2.VideoCapture(r\"C:\\\\Users\\\\ADMIN\\\\Downloads\\\\Kick Me _ Best Directing _ Film Riot & Filmstro One Minute Short Film Competition.mp4\")\n",
    "\n",
    "while True:\n",
    "    success, frame = vid.read()\n",
    "    \n",
    "    if frame is not None and frame.shape[0] > 0 and frame.shape[1] > 0:\n",
    "        faces = face_cascade.detectMultiScale(frame)\n",
    "        for (x,y,w,h) in faces:\n",
    "            cv2.rectangle(frame,(x,y),(x+w,y+h),color=(255,0,255),thickness=3)\n",
    "        \n",
    "            cv2.imshow(\"Video\", frame)\n",
    "\n",
    "    if cv2.waitKey(1) & 0xFF == 27:\n",
    "        break\n",
    "\n",
    "vid.release()\n",
    "cv2.destroyAllWindows()\n"
   ]
  },
  {
   "cell_type": "code",
   "execution_count": null,
   "metadata": {},
   "outputs": [],
   "source": []
  }
 ],
 "metadata": {
  "kernelspec": {
   "display_name": "base",
   "language": "python",
   "name": "python3"
  },
  "language_info": {
   "codemirror_mode": {
    "name": "ipython",
    "version": 3
   },
   "file_extension": ".py",
   "mimetype": "text/x-python",
   "name": "python",
   "nbconvert_exporter": "python",
   "pygments_lexer": "ipython3",
   "version": "3.9.13"
  }
 },
 "nbformat": 4,
 "nbformat_minor": 2
}
